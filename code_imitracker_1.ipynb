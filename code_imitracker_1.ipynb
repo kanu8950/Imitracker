{
 "cells": [
  {
   "cell_type": "markdown",
   "metadata": {},
   "source": [
    "# IMMITRACKER"
   ]
  },
  {
   "cell_type": "code",
   "execution_count": 1,
   "metadata": {},
   "outputs": [],
   "source": [
    "import os"
   ]
  },
  {
   "cell_type": "code",
   "execution_count": 2,
   "metadata": {},
   "outputs": [],
   "source": [
    "files = os.listdir(\"Data_files/\")"
   ]
  },
  {
   "cell_type": "code",
   "execution_count": 3,
   "metadata": {},
   "outputs": [],
   "source": [
    "files_1 = {}\n",
    "for k in range(0,len(files)):\n",
    "    a = open(files[k],\"r\").readlines()\n",
    "    files_1[k] = a"
   ]
  },
  {
   "cell_type": "code",
   "execution_count": 4,
   "metadata": {},
   "outputs": [
    {
     "data": {
      "text/plain": [
       "{0: ['My Name is Sanchit Jain. I live in Ambala Cantt. I am currently persuing Btech from Ambala College of Engg And Applied Reserch. My Aim in Life is to become an Army Officer , for this i am taking coaching from various institutes.'],\n",
       " 1: ['My Name is Kumar Kanishk. I live in Delhi. I am currently persuing Btech from Ambala College of Engg And Applied Reserch. My Aim in Life is to become  a famous basketball player.'],\n",
       " 2: ['My Name is Parlad. I live in Ambala Cantt. I am currently persuing Btech from Chitkara University. My Aim in Life is to become an Army Officer , for this i am taking coaching from various institutes.'],\n",
       " 3: ['My Name is Aakash Kumar. I live in Hissar. I am currently persuing Btech from Ambala College of Engg And Applied Reserch. My Aim in Life is to become a Programmer.'],\n",
       " 4: ['My Name is Gaurav. I live in Ambala Cantt. I am currently persuing Btech from Ambala College of Engg And Applied Reserch. My Aim in Life is to become a Software Engg.'],\n",
       " 5: ['My Name is Vanshita. I Live in Chandigarh. I am currently persuing Btech from Ambala College of Engg And Applied Reserch. My Aim in Life is to become a Software Engg.  ']}"
      ]
     },
     "execution_count": 4,
     "metadata": {},
     "output_type": "execute_result"
    }
   ],
   "source": [
    "files_1"
   ]
  },
  {
   "cell_type": "code",
   "execution_count": 5,
   "metadata": {},
   "outputs": [],
   "source": [
    "ind_line = []\n",
    "for i in range(0,6):\n",
    "    ind_line.append(files_1[i][0].split(\". \"))\n",
    "    "
   ]
  },
  {
   "cell_type": "code",
   "execution_count": 6,
   "metadata": {},
   "outputs": [],
   "source": [
    "ind_word = []\n",
    "for i in range(0,6):\n",
    "    ind_word.append(files_1[i][0].split(\" \"))\n",
    "    "
   ]
  },
  {
   "cell_type": "code",
   "execution_count": 7,
   "metadata": {},
   "outputs": [],
   "source": [
    "san = []\n",
    "for i in range(0,len(ind_word)):\n",
    "    b = len(ind_word[i])\n",
    "    for m in range(0,b):\n",
    "        c = len(ind_word[i][m])\n",
    "        if(c > 2):\n",
    "            san.append(ind_word[i][m])"
   ]
  },
  {
   "cell_type": "code",
   "execution_count": 8,
   "metadata": {},
   "outputs": [],
   "source": [
    "Sanchit = san[0:28]\n",
    "Kanishk = san[28:49]\n",
    "Parlad = san[49:72]\n",
    "Aakash = san[72:91]\n",
    "Gaurav = san[91:111]\n",
    "Vanshita = san[111:130]"
   ]
  },
  {
   "cell_type": "code",
   "execution_count": 9,
   "metadata": {},
   "outputs": [],
   "source": [
    "li_word = [Sanchit,Kanishk,Parlad,Aakash,Gaurav,Vanshita]"
   ]
  },
  {
   "cell_type": "code",
   "execution_count": 10,
   "metadata": {},
   "outputs": [],
   "source": [
    "# Frequency of each word\n",
    "b = [ind_word[0],ind_word[1],ind_word[2],ind_word[3],ind_word[4],ind_word[5]]\n",
    "def freq(str):\n",
    "    for i in range(0,len(b)):\n",
    "        print(\"File no. : \",i)\n",
    "        unique_words = set(b[i])\n",
    "        for words in unique_words:\n",
    "            print(\"Frequecy of \",words,\" is : \",b[i].count(words))"
   ]
  },
  {
   "cell_type": "code",
   "execution_count": 11,
   "metadata": {},
   "outputs": [
    {
     "name": "stdout",
     "output_type": "stream",
     "text": [
      "File no. :  0\n",
      "Frequecy of  Officer  is :  1\n",
      "Frequecy of  currently  is :  1\n",
      "Frequecy of  this  is :  1\n",
      "Frequecy of  Reserch.  is :  1\n",
      "Frequecy of  taking  is :  1\n",
      "Frequecy of  Sanchit  is :  1\n",
      "Frequecy of  Engg  is :  1\n",
      "Frequecy of  to  is :  1\n",
      "Frequecy of  My  is :  2\n",
      "Frequecy of  Cantt.  is :  1\n",
      "Frequecy of  Name  is :  1\n",
      "Frequecy of  in  is :  2\n",
      "Frequecy of  Applied  is :  1\n",
      "Frequecy of  live  is :  1\n",
      "Frequecy of  an  is :  1\n",
      "Frequecy of  is  is :  2\n",
      "Frequecy of  Aim  is :  1\n",
      "Frequecy of  ,  is :  1\n",
      "Frequecy of  I  is :  2\n",
      "Frequecy of  i  is :  1\n",
      "Frequecy of  coaching  is :  1\n",
      "Frequecy of  Life  is :  1\n",
      "Frequecy of  Army  is :  1\n",
      "Frequecy of  Ambala  is :  2\n",
      "Frequecy of  am  is :  2\n",
      "Frequecy of  Jain.  is :  1\n",
      "Frequecy of  College  is :  1\n",
      "Frequecy of  of  is :  1\n",
      "Frequecy of  various  is :  1\n",
      "Frequecy of  persuing  is :  1\n",
      "Frequecy of  And  is :  1\n",
      "Frequecy of  institutes.  is :  1\n",
      "Frequecy of  become  is :  1\n",
      "Frequecy of  Btech  is :  1\n",
      "Frequecy of  from  is :  2\n",
      "Frequecy of  for  is :  1\n",
      "File no. :  1\n",
      "Frequecy of    is :  1\n",
      "Frequecy of  Delhi.  is :  1\n",
      "Frequecy of  currently  is :  1\n",
      "Frequecy of  Kanishk.  is :  1\n",
      "Frequecy of  a  is :  1\n",
      "Frequecy of  Reserch.  is :  1\n",
      "Frequecy of  Engg  is :  1\n",
      "Frequecy of  to  is :  1\n",
      "Frequecy of  My  is :  2\n",
      "Frequecy of  Kumar  is :  1\n",
      "Frequecy of  Name  is :  1\n",
      "Frequecy of  in  is :  2\n",
      "Frequecy of  Applied  is :  1\n",
      "Frequecy of  live  is :  1\n",
      "Frequecy of  player.  is :  1\n",
      "Frequecy of  is  is :  2\n",
      "Frequecy of  Aim  is :  1\n",
      "Frequecy of  I  is :  2\n",
      "Frequecy of  Life  is :  1\n",
      "Frequecy of  Ambala  is :  1\n",
      "Frequecy of  am  is :  1\n",
      "Frequecy of  College  is :  1\n",
      "Frequecy of  of  is :  1\n",
      "Frequecy of  persuing  is :  1\n",
      "Frequecy of  basketball  is :  1\n",
      "Frequecy of  famous  is :  1\n",
      "Frequecy of  And  is :  1\n",
      "Frequecy of  become  is :  1\n",
      "Frequecy of  Btech  is :  1\n",
      "Frequecy of  from  is :  1\n",
      "File no. :  2\n",
      "Frequecy of  Officer  is :  1\n",
      "Frequecy of  currently  is :  1\n",
      "Frequecy of  this  is :  1\n",
      "Frequecy of  taking  is :  1\n",
      "Frequecy of  to  is :  1\n",
      "Frequecy of  My  is :  2\n",
      "Frequecy of  Cantt.  is :  1\n",
      "Frequecy of  Name  is :  1\n",
      "Frequecy of  in  is :  2\n",
      "Frequecy of  live  is :  1\n",
      "Frequecy of  an  is :  1\n",
      "Frequecy of  is  is :  2\n",
      "Frequecy of  Aim  is :  1\n",
      "Frequecy of  ,  is :  1\n",
      "Frequecy of  I  is :  2\n",
      "Frequecy of  i  is :  1\n",
      "Frequecy of  coaching  is :  1\n",
      "Frequecy of  Life  is :  1\n",
      "Frequecy of  Army  is :  1\n",
      "Frequecy of  Ambala  is :  1\n",
      "Frequecy of  am  is :  2\n",
      "Frequecy of  University.  is :  1\n",
      "Frequecy of  various  is :  1\n",
      "Frequecy of  persuing  is :  1\n",
      "Frequecy of  institutes.  is :  1\n",
      "Frequecy of  become  is :  1\n",
      "Frequecy of  Parlad.  is :  1\n",
      "Frequecy of  Btech  is :  1\n",
      "Frequecy of  Chitkara  is :  1\n",
      "Frequecy of  from  is :  2\n",
      "Frequecy of  for  is :  1\n",
      "File no. :  3\n",
      "Frequecy of  currently  is :  1\n",
      "Frequecy of  a  is :  1\n",
      "Frequecy of  Aakash  is :  1\n",
      "Frequecy of  Reserch.  is :  1\n",
      "Frequecy of  Engg  is :  1\n",
      "Frequecy of  to  is :  1\n",
      "Frequecy of  My  is :  2\n",
      "Frequecy of  Name  is :  1\n",
      "Frequecy of  in  is :  2\n",
      "Frequecy of  Kumar.  is :  1\n",
      "Frequecy of  Applied  is :  1\n",
      "Frequecy of  live  is :  1\n",
      "Frequecy of  is  is :  2\n",
      "Frequecy of  Aim  is :  1\n",
      "Frequecy of  I  is :  2\n",
      "Frequecy of  Life  is :  1\n",
      "Frequecy of  Ambala  is :  1\n",
      "Frequecy of  am  is :  1\n",
      "Frequecy of  College  is :  1\n",
      "Frequecy of  Hissar.  is :  1\n",
      "Frequecy of  of  is :  1\n",
      "Frequecy of  persuing  is :  1\n",
      "Frequecy of  And  is :  1\n",
      "Frequecy of  become  is :  1\n",
      "Frequecy of  Programmer.  is :  1\n",
      "Frequecy of  Btech  is :  1\n",
      "Frequecy of  from  is :  1\n",
      "File no. :  4\n",
      "Frequecy of  currently  is :  1\n",
      "Frequecy of  a  is :  1\n",
      "Frequecy of  Reserch.  is :  1\n",
      "Frequecy of  Engg  is :  1\n",
      "Frequecy of  to  is :  1\n",
      "Frequecy of  My  is :  2\n",
      "Frequecy of  Cantt.  is :  1\n",
      "Frequecy of  Name  is :  1\n",
      "Frequecy of  in  is :  2\n",
      "Frequecy of  Applied  is :  1\n",
      "Frequecy of  live  is :  1\n",
      "Frequecy of  is  is :  2\n",
      "Frequecy of  Aim  is :  1\n",
      "Frequecy of  I  is :  2\n",
      "Frequecy of  Gaurav.  is :  1\n",
      "Frequecy of  Life  is :  1\n",
      "Frequecy of  Ambala  is :  2\n",
      "Frequecy of  am  is :  1\n",
      "Frequecy of  Engg.  is :  1\n",
      "Frequecy of  College  is :  1\n",
      "Frequecy of  of  is :  1\n",
      "Frequecy of  persuing  is :  1\n",
      "Frequecy of  Software  is :  1\n",
      "Frequecy of  And  is :  1\n",
      "Frequecy of  become  is :  1\n",
      "Frequecy of  Btech  is :  1\n",
      "Frequecy of  from  is :  1\n",
      "File no. :  5\n",
      "Frequecy of    is :  2\n",
      "Frequecy of  currently  is :  1\n",
      "Frequecy of  a  is :  1\n",
      "Frequecy of  Reserch.  is :  1\n",
      "Frequecy of  Engg  is :  1\n",
      "Frequecy of  to  is :  1\n",
      "Frequecy of  My  is :  2\n",
      "Frequecy of  Name  is :  1\n",
      "Frequecy of  in  is :  2\n",
      "Frequecy of  Applied  is :  1\n",
      "Frequecy of  is  is :  2\n",
      "Frequecy of  Aim  is :  1\n",
      "Frequecy of  I  is :  2\n",
      "Frequecy of  Life  is :  1\n",
      "Frequecy of  Chandigarh.  is :  1\n",
      "Frequecy of  Ambala  is :  1\n",
      "Frequecy of  am  is :  1\n",
      "Frequecy of  Engg.  is :  1\n",
      "Frequecy of  College  is :  1\n",
      "Frequecy of  Live  is :  1\n",
      "Frequecy of  of  is :  1\n",
      "Frequecy of  persuing  is :  1\n",
      "Frequecy of  Software  is :  1\n",
      "Frequecy of  And  is :  1\n",
      "Frequecy of  become  is :  1\n",
      "Frequecy of  Vanshita.  is :  1\n",
      "Frequecy of  Btech  is :  1\n",
      "Frequecy of  from  is :  1\n"
     ]
    }
   ],
   "source": [
    "freq(a)"
   ]
  },
  {
   "cell_type": "code",
   "execution_count": 12,
   "metadata": {},
   "outputs": [],
   "source": [
    "# Compairing Function\n",
    "\n",
    "def compairing(str_1,str_2):\n",
    "    matchline = []\n",
    "    for i in range(0,len(str_1)):\n",
    "        for j in range(0,len(str_2)):\n",
    "            if (str_1[i] == str_2[j]):\n",
    "                matchline.append(str_1[i])\n",
    "    return(matchline)"
   ]
  },
  {
   "cell_type": "code",
   "execution_count": 13,
   "metadata": {
    "scrolled": false
   },
   "outputs": [
    {
     "name": "stdout",
     "output_type": "stream",
     "text": [
      "File no. :  1\n",
      "Copied Line :  ['I am currently persuing Btech from Ambala College of Engg And Applied Reserch']\n",
      "File no. :  2\n",
      "Copied Line :  ['I live in Ambala Cantt', 'My Aim in Life is to become an Army Officer , for this i am taking coaching from various institutes.']\n",
      "File no. :  3\n",
      "Copied Line :  ['I am currently persuing Btech from Ambala College of Engg And Applied Reserch']\n",
      "File no. :  4\n",
      "Copied Line :  ['I live in Ambala Cantt', 'I am currently persuing Btech from Ambala College of Engg And Applied Reserch']\n",
      "File no. :  5\n",
      "Copied Line :  ['I am currently persuing Btech from Ambala College of Engg And Applied Reserch']\n"
     ]
    }
   ],
   "source": [
    "emp_l = []\n",
    "files = [ind_line[1],ind_line[2],ind_line[3],ind_line[4],ind_line[5]]\n",
    "for string,k in zip(files,range(1,len(files)+2)):\n",
    "    print(\"File no. : \",k)\n",
    "    output = compairing(ind_line[0],string)\n",
    "    emp_l.append(output)\n",
    "    print(\"Copied Line : \",output)\n",
    "    "
   ]
  },
  {
   "cell_type": "code",
   "execution_count": 14,
   "metadata": {},
   "outputs": [
    {
     "data": {
      "text/plain": [
       "['I am currently persuing Btech from Ambala College of Engg And Applied Reserch']"
      ]
     },
     "execution_count": 14,
     "metadata": {},
     "output_type": "execute_result"
    }
   ],
   "source": [
    "emp_l[0]"
   ]
  },
  {
   "cell_type": "code",
   "execution_count": 15,
   "metadata": {},
   "outputs": [],
   "source": [
    "length1_line = len(emp_l[0])\n",
    "length2_line = len(emp_l[1])\n",
    "length3_line = len(emp_l[2])\n",
    "length4_line = len(emp_l[3])\n",
    "length5_line = len(emp_l[4])"
   ]
  },
  {
   "cell_type": "code",
   "execution_count": 19,
   "metadata": {
    "scrolled": false
   },
   "outputs": [
    {
     "name": "stdout",
     "output_type": "stream",
     "text": [
      "File no. :  1\n",
      "Copied words :  ['Name', 'live', 'Ambala', 'currently', 'persuing', 'Btech', 'from', 'Ambala', 'College', 'Engg', 'And', 'Applied', 'Reserch.', 'Aim', 'Life', 'become', 'from']\n",
      "File no. :  2\n",
      "Copied words :  ['Name', 'live', 'Ambala', 'Cantt.', 'currently', 'persuing', 'Btech', 'from', 'from', 'Ambala', 'Aim', 'Life', 'become', 'Army', 'Officer', 'for', 'this', 'taking', 'coaching', 'from', 'from', 'various', 'institutes.']\n",
      "File no. :  3\n",
      "Copied words :  ['Name', 'live', 'Ambala', 'currently', 'persuing', 'Btech', 'from', 'Ambala', 'College', 'Engg', 'And', 'Applied', 'Reserch.', 'Aim', 'Life', 'become', 'from']\n",
      "File no. :  4\n",
      "Copied words :  ['Name', 'live', 'Ambala', 'Ambala', 'Cantt.', 'currently', 'persuing', 'Btech', 'from', 'Ambala', 'Ambala', 'College', 'Engg', 'And', 'Applied', 'Reserch.', 'Aim', 'Life', 'become', 'from']\n",
      "File no. :  5\n",
      "Copied words :  ['Name', 'Ambala', 'currently', 'persuing', 'Btech', 'from', 'Ambala', 'College', 'Engg', 'And', 'Applied', 'Reserch.', 'Aim', 'Life', 'become', 'from']\n"
     ]
    }
   ],
   "source": [
    "emp_l1 = [] \n",
    "files1 = [li_word[1],li_word[2],li_word[3],li_word[4],li_word[5]]\n",
    "for x,a in zip(files1,range(1,len(files1)+2)):\n",
    "        print(\"File no. : \",a)\n",
    "        output1 = compairing(li_word[0],x)\n",
    "        emp_l1.append(output1)\n",
    "        print(\"Copied words : \",(output1))\n"
   ]
  },
  {
   "cell_type": "code",
   "execution_count": 20,
   "metadata": {},
   "outputs": [],
   "source": [
    "length1_word = len(emp_l1[0])\n",
    "length2_word = len(emp_l1[1])\n",
    "length3_word = len(emp_l1[2])\n",
    "length4_word = len(emp_l1[3])\n",
    "length5_word = len(emp_l1[4])"
   ]
  },
  {
   "cell_type": "code",
   "execution_count": 21,
   "metadata": {},
   "outputs": [],
   "source": [
    "# Creating Function Percentage\n",
    "def percentage(a,b):\n",
    "    c = (a/b) * 100\n",
    "    return(c)"
   ]
  },
  {
   "cell_type": "code",
   "execution_count": 22,
   "metadata": {},
   "outputs": [
    {
     "name": "stdout",
     "output_type": "stream",
     "text": [
      "File no. -  2\n",
      "Copied percentage Lines -  25.0 %\n",
      "File no. -  3\n",
      "Copied percentage Lines -  50.0 %\n",
      "File no. -  4\n",
      "Copied percentage Lines -  25.0 %\n",
      "File no. -  5\n",
      "Copied percentage Lines -  50.0 %\n",
      "File no. -  6\n",
      "Copied percentage Lines -  25.0 %\n"
     ]
    }
   ],
   "source": [
    "# Program for copied percentage lines\n",
    "emp_l2 = []\n",
    "length = len(ind_line[0])\n",
    "files2 = [length1_line,length2_line,length3_line,length4_line,length5_line]\n",
    "for string2,b in zip(files2,range(2,len(files2)+2)):\n",
    "    print(\"File no. - \",b)\n",
    "    output2 = percentage(string2,length)\n",
    "    emp_l2.append(output2)\n",
    "    print(\"Copied percentage Lines - \",output2,\"%\")\n"
   ]
  },
  {
   "cell_type": "code",
   "execution_count": 23,
   "metadata": {},
   "outputs": [
    {
     "name": "stdout",
     "output_type": "stream",
     "text": [
      "File no. -  2\n",
      "Copied percentage Words -  60.71428571428571 %\n",
      "File no. -  3\n",
      "Copied percentage Words -  82.14285714285714 %\n",
      "File no. -  4\n",
      "Copied percentage Words -  60.71428571428571 %\n",
      "File no. -  5\n",
      "Copied percentage Words -  71.42857142857143 %\n",
      "File no. -  6\n",
      "Copied percentage Words -  57.14285714285714 %\n"
     ]
    }
   ],
   "source": [
    "# Program for copied percentage words\n",
    "emp_l3 = []\n",
    "length1 = len(li_word[0])\n",
    "files3 = [length1_word,length2_word,length3_word,length4_word,length5_word]\n",
    "for string3,c in zip(files3,range(2,len(files3)+2)):\n",
    "    print(\"File no. - \",c)\n",
    "    output3 = percentage(string3,length1)\n",
    "    emp_l3.append(output3)\n",
    "    print(\"Copied percentage Words - \",output3,\"%\")"
   ]
  },
  {
   "cell_type": "code",
   "execution_count": 24,
   "metadata": {},
   "outputs": [],
   "source": [
    "# Creating Function for Mean Percentage\n",
    "def mean_percentage(a,b):\n",
    "    c = (a+b)/2\n",
    "    return(c)"
   ]
  },
  {
   "cell_type": "code",
   "execution_count": 25,
   "metadata": {},
   "outputs": [
    {
     "name": "stdout",
     "output_type": "stream",
     "text": [
      "File no. -  2\n",
      "Total percentage copied -  42.857142857142854\n",
      "File no. -  3\n",
      "Total percentage copied -  66.07142857142857\n",
      "File no. -  4\n",
      "Total percentage copied -  42.857142857142854\n",
      "File no. -  5\n",
      "Total percentage copied -  60.714285714285715\n",
      "File no. -  6\n",
      "Total percentage copied -  41.07142857142857\n"
     ]
    }
   ],
   "source": [
    "# Program for mean percentage\n",
    "for k,l,m in zip(range(0,len(emp_l2)),range(0,len(emp_l3)),range(2,7)):\n",
    "               output4 = mean_percentage(emp_l2[k],emp_l3[l])\n",
    "               print(\"File no. - \",m)\n",
    "               print(\"Total percentage copied - \",output4)"
   ]
  },
  {
   "cell_type": "code",
   "execution_count": 26,
   "metadata": {},
   "outputs": [],
   "source": [
    "def immi(a,b):\n",
    "    l1 = []\n",
    "    l2 = []\n",
    "    l3 = []\n",
    "    files2 = [length1_line,length2_line,length3_line,length4_line,length5_line]\n",
    "    files3 = [length1_word,length2_word,length3_word,length4_word,length5_word]\n",
    "    for i in range(0,len(files2)):\n",
    "        line_percentage = percentage(files2[i],length)\n",
    "        l1.append(line_percentage)\n",
    "        word_percentage = percentage(files3[i],length1)\n",
    "        l2.append(word_percentage)\n",
    "        mean_per = mean_percentage(line_percentage,word_percentage)\n",
    "        l3.append(mean_per)\n",
    "        print(\"File no : \",i,\" --- \",\" Line Copied : \",l1[i],\"%\",\" \",\"Word Copied : \",l2[i],\"%\",\" \"\"Total Copied : \",l3[i],\"%\")\n"
   ]
  },
  {
   "cell_type": "code",
   "execution_count": 36,
   "metadata": {},
   "outputs": [
    {
     "name": "stdout",
     "output_type": "stream",
     "text": [
      "File no :  0  ---   Line Copied :  25.0 %   Word Copied :  60.71428571428571 %  Total Copied :  42.857142857142854 %\n",
      "File no :  1  ---   Line Copied :  50.0 %   Word Copied :  82.14285714285714 %  Total Copied :  66.07142857142857 %\n",
      "File no :  2  ---   Line Copied :  25.0 %   Word Copied :  60.71428571428571 %  Total Copied :  42.857142857142854 %\n",
      "File no :  3  ---   Line Copied :  50.0 %   Word Copied :  71.42857142857143 %  Total Copied :  60.714285714285715 %\n",
      "File no :  4  ---   Line Copied :  25.0 %   Word Copied :  57.14285714285714 %  Total Copied :  41.07142857142857 %\n"
     ]
    }
   ],
   "source": [
    "immi(3,5)"
   ]
  },
  {
   "cell_type": "code",
   "execution_count": null,
   "metadata": {},
   "outputs": [],
   "source": []
  },
  {
   "cell_type": "code",
   "execution_count": null,
   "metadata": {},
   "outputs": [],
   "source": []
  },
  {
   "cell_type": "code",
   "execution_count": null,
   "metadata": {},
   "outputs": [],
   "source": []
  },
  {
   "cell_type": "code",
   "execution_count": null,
   "metadata": {},
   "outputs": [],
   "source": []
  },
  {
   "cell_type": "code",
   "execution_count": null,
   "metadata": {},
   "outputs": [],
   "source": []
  },
  {
   "cell_type": "code",
   "execution_count": null,
   "metadata": {},
   "outputs": [],
   "source": []
  },
  {
   "cell_type": "code",
   "execution_count": null,
   "metadata": {},
   "outputs": [],
   "source": []
  },
  {
   "cell_type": "code",
   "execution_count": null,
   "metadata": {},
   "outputs": [],
   "source": []
  },
  {
   "cell_type": "code",
   "execution_count": null,
   "metadata": {},
   "outputs": [],
   "source": []
  },
  {
   "cell_type": "code",
   "execution_count": null,
   "metadata": {},
   "outputs": [],
   "source": []
  },
  {
   "cell_type": "code",
   "execution_count": null,
   "metadata": {},
   "outputs": [],
   "source": []
  },
  {
   "cell_type": "code",
   "execution_count": null,
   "metadata": {},
   "outputs": [],
   "source": []
  },
  {
   "cell_type": "code",
   "execution_count": null,
   "metadata": {},
   "outputs": [],
   "source": []
  },
  {
   "cell_type": "code",
   "execution_count": null,
   "metadata": {},
   "outputs": [],
   "source": []
  }
 ],
 "metadata": {
  "kernelspec": {
   "display_name": "Python 3",
   "language": "python",
   "name": "python3"
  },
  "language_info": {
   "codemirror_mode": {
    "name": "ipython",
    "version": 3
   },
   "file_extension": ".py",
   "mimetype": "text/x-python",
   "name": "python",
   "nbconvert_exporter": "python",
   "pygments_lexer": "ipython3",
   "version": "3.7.4"
  }
 },
 "nbformat": 4,
 "nbformat_minor": 2
}
